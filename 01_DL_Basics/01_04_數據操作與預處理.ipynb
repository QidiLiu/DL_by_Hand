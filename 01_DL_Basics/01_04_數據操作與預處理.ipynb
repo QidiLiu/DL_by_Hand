{
  "nbformat": 4,
  "nbformat_minor": 0,
  "metadata": {
    "colab": {
      "provenance": [],
      "authorship_tag": "ABX9TyPWpMeA0B1Btrc0LWMaCeNd",
      "include_colab_link": true
    },
    "kernelspec": {
      "name": "python3",
      "display_name": "Python 3"
    },
    "language_info": {
      "name": "python"
    }
  },
  "cells": [
    {
      "cell_type": "markdown",
      "metadata": {
        "id": "view-in-github",
        "colab_type": "text"
      },
      "source": [
        "<a href=\"https://colab.research.google.com/github/QidiLiu/DL_by_Hand/blob/main/01_DL_Basics/01_04_%E6%95%B8%E6%93%9A%E6%93%8D%E4%BD%9C%E8%88%87%E9%A0%90%E8%99%95%E7%90%86.ipynb\" target=\"_parent\"><img src=\"https://colab.research.google.com/assets/colab-badge.svg\" alt=\"Open In Colab\"/></a>"
      ]
    },
    {
      "cell_type": "markdown",
      "source": [
        "數據操作\n",
        "\n",
        "機器學習和神經網絡的基本數據結構是**N維數組**\n",
        "\n",
        "創建數組需要：\n",
        "\n",
        "- 尺寸\n",
        "- 數據類型\n",
        "- 初始化各個元素的值（全設爲0，或設爲隨機數）\n",
        "\n",
        "訪問元素可以以坐標或坐標切片形式進行，如：\n",
        "\n",
        "- a[1, 2]\n",
        "- a[1, :]\n",
        "- a[:, 1]\n",
        "- a[1:3, 1:]\n",
        "- a[::3, ::2] （步長大於0）"
      ],
      "metadata": {
        "id": "Lmet2x5cR1Dp"
      }
    },
    {
      "cell_type": "code",
      "execution_count": 1,
      "metadata": {
        "id": "NuAkzwBXRyqM"
      },
      "outputs": [],
      "source": [
        "import torch"
      ]
    },
    {
      "cell_type": "markdown",
      "source": [
        "張量（tensor）表示一個多維數組"
      ],
      "metadata": {
        "id": "pS1Ns7kdTXGj"
      }
    },
    {
      "cell_type": "code",
      "source": [
        "x = torch.arange(12)\n",
        "x"
      ],
      "metadata": {
        "colab": {
          "base_uri": "https://localhost:8080/"
        },
        "id": "6QItvFtJTN_h",
        "outputId": "9fe017cc-b3dc-43bd-eb16-7e366a7a3299"
      },
      "execution_count": 2,
      "outputs": [
        {
          "output_type": "execute_result",
          "data": {
            "text/plain": [
              "tensor([ 0,  1,  2,  3,  4,  5,  6,  7,  8,  9, 10, 11])"
            ]
          },
          "metadata": {},
          "execution_count": 2
        }
      ]
    },
    {
      "cell_type": "markdown",
      "source": [
        "可用shape訪問其尺寸，可用numel()訪問元素的總數"
      ],
      "metadata": {
        "id": "WRDXrMrjTnyM"
      }
    },
    {
      "cell_type": "code",
      "source": [
        "print(x.shape)\n",
        "print(x.numel())"
      ],
      "metadata": {
        "colab": {
          "base_uri": "https://localhost:8080/"
        },
        "id": "N4WM0p1RTlsL",
        "outputId": "0de681fc-3abd-42ea-d847-fab3b2ddad50"
      },
      "execution_count": 3,
      "outputs": [
        {
          "output_type": "stream",
          "name": "stdout",
          "text": [
            "torch.Size([12])\n",
            "12\n"
          ]
        }
      ]
    },
    {
      "cell_type": "markdown",
      "source": [
        "用改變尺寸可用reshape()"
      ],
      "metadata": {
        "id": "V1KBg7j-T8_-"
      }
    },
    {
      "cell_type": "code",
      "source": [
        "X = x.reshape(3, 4)\n",
        "X"
      ],
      "metadata": {
        "colab": {
          "base_uri": "https://localhost:8080/"
        },
        "id": "B3G6Nv9FT5UY",
        "outputId": "671dc91a-d801-4d58-b2f1-9832e1c630a0"
      },
      "execution_count": 4,
      "outputs": [
        {
          "output_type": "execute_result",
          "data": {
            "text/plain": [
              "tensor([[ 0,  1,  2,  3],\n",
              "        [ 4,  5,  6,  7],\n",
              "        [ 8,  9, 10, 11]])"
            ]
          },
          "metadata": {},
          "execution_count": 4
        }
      ]
    },
    {
      "cell_type": "markdown",
      "source": [
        "可創建全0或全1的指定尺寸張量"
      ],
      "metadata": {
        "id": "-XjGZpLRUIeM"
      }
    },
    {
      "cell_type": "code",
      "source": [
        "print(torch.zeros((2, 3)))\n",
        "print(torch.ones((2, 3, 2)))"
      ],
      "metadata": {
        "colab": {
          "base_uri": "https://localhost:8080/"
        },
        "id": "e1LSBCRhUHWp",
        "outputId": "43c2b7b5-8e45-40ef-8978-a60b3e19f2ce"
      },
      "execution_count": 6,
      "outputs": [
        {
          "output_type": "stream",
          "name": "stdout",
          "text": [
            "tensor([[0., 0., 0.],\n",
            "        [0., 0., 0.]])\n",
            "tensor([[[1., 1.],\n",
            "         [1., 1.],\n",
            "         [1., 1.]],\n",
            "\n",
            "        [[1., 1.],\n",
            "         [1., 1.],\n",
            "         [1., 1.]]])\n"
          ]
        }
      ]
    },
    {
      "cell_type": "markdown",
      "source": [
        "可用列表直接創建張量（不加小數點會自動設爲整數型）"
      ],
      "metadata": {
        "id": "n_59zm52U6PI"
      }
    },
    {
      "cell_type": "code",
      "source": [
        "torch.tensor([[2, 1, 3], [4, 6, 8]])"
      ],
      "metadata": {
        "colab": {
          "base_uri": "https://localhost:8080/"
        },
        "id": "hdpVPs6tUrzP",
        "outputId": "dee08193-448a-48eb-fcc2-2d94486c3344"
      },
      "execution_count": 7,
      "outputs": [
        {
          "output_type": "execute_result",
          "data": {
            "text/plain": [
              "tensor([[2, 1, 3],\n",
              "        [4, 6, 8]])"
            ]
          },
          "metadata": {},
          "execution_count": 7
        }
      ]
    },
    {
      "cell_type": "markdown",
      "source": [
        "直接對張量進行加減乘除可以對各個**對應**元素進行計算"
      ],
      "metadata": {
        "id": "q9DHQmVPVZ91"
      }
    },
    {
      "cell_type": "code",
      "source": [
        "x = torch.tensor([1.0, 2.0, 4.0, 8.0])\n",
        "y = torch.tensor([2.0, 2.0, 2.0, 2.0])\n",
        "x + y, x - y, x * y, x / y, x ** y"
      ],
      "metadata": {
        "colab": {
          "base_uri": "https://localhost:8080/"
        },
        "id": "_EmDnLuGVG5U",
        "outputId": "be5678dd-03cb-42c3-e643-0a743a6b1884"
      },
      "execution_count": 8,
      "outputs": [
        {
          "output_type": "execute_result",
          "data": {
            "text/plain": [
              "(tensor([ 3.,  4.,  6., 10.]),\n",
              " tensor([-1.,  0.,  2.,  6.]),\n",
              " tensor([ 2.,  4.,  8., 16.]),\n",
              " tensor([0.5000, 1.0000, 2.0000, 4.0000]),\n",
              " tensor([ 1.,  4., 16., 64.]))"
            ]
          },
          "metadata": {},
          "execution_count": 8
        }
      ]
    },
    {
      "cell_type": "markdown",
      "source": [
        "cat()用於堆叠張量，要注意堆叠的維度"
      ],
      "metadata": {
        "id": "jQYjYsc4WR3-"
      }
    },
    {
      "cell_type": "code",
      "source": [
        "X = torch.arange(12, dtype=torch.float32).reshape((3, 4))\n",
        "Y = torch.tensor([[2., 1., 4., 3.], [1., 2., 3., 4], [4., 3., 2., 1]])\n",
        "torch.cat((X, Y), dim=0), torch.cat((X, Y), dim=1)"
      ],
      "metadata": {
        "colab": {
          "base_uri": "https://localhost:8080/"
        },
        "id": "irlnHKrTVsfV",
        "outputId": "43bb34c2-ebb7-4d8c-dcfd-96ba0a7c3bcc"
      },
      "execution_count": 9,
      "outputs": [
        {
          "output_type": "execute_result",
          "data": {
            "text/plain": [
              "(tensor([[ 0.,  1.,  2.,  3.],\n",
              "         [ 4.,  5.,  6.,  7.],\n",
              "         [ 8.,  9., 10., 11.],\n",
              "         [ 2.,  1.,  4.,  3.],\n",
              "         [ 1.,  2.,  3.,  4.],\n",
              "         [ 4.,  3.,  2.,  1.]]),\n",
              " tensor([[ 0.,  1.,  2.,  3.,  2.,  1.,  4.,  3.],\n",
              "         [ 4.,  5.,  6.,  7.,  1.,  2.,  3.,  4.],\n",
              "         [ 8.,  9., 10., 11.,  4.,  3.,  2.,  1.]]))"
            ]
          },
          "metadata": {},
          "execution_count": 9
        }
      ]
    },
    {
      "cell_type": "markdown",
      "source": [
        "邏輯運算符會按元素求解"
      ],
      "metadata": {
        "id": "NjmSaOHaW9ic"
      }
    },
    {
      "cell_type": "code",
      "source": [
        "X == Y"
      ],
      "metadata": {
        "colab": {
          "base_uri": "https://localhost:8080/"
        },
        "id": "MrOaumBRWvUO",
        "outputId": "dbeb5887-247f-40ac-94b3-d82550f0b8bc"
      },
      "execution_count": 10,
      "outputs": [
        {
          "output_type": "execute_result",
          "data": {
            "text/plain": [
              "tensor([[False,  True, False,  True],\n",
              "        [False, False, False, False],\n",
              "        [False, False, False, False]])"
            ]
          },
          "metadata": {},
          "execution_count": 10
        }
      ]
    },
    {
      "cell_type": "markdown",
      "source": [
        "用sum()可求張量内元素的總和"
      ],
      "metadata": {
        "id": "NbS7DhLBXQEr"
      }
    },
    {
      "cell_type": "code",
      "source": [
        "X.sum()"
      ],
      "metadata": {
        "colab": {
          "base_uri": "https://localhost:8080/"
        },
        "id": "CBuwkZMwXNZD",
        "outputId": "bea978c6-5af7-45c9-f58f-63ac8665d8fb"
      },
      "execution_count": 11,
      "outputs": [
        {
          "output_type": "execute_result",
          "data": {
            "text/plain": [
              "tensor(66.)"
            ]
          },
          "metadata": {},
          "execution_count": 11
        }
      ]
    },
    {
      "cell_type": "markdown",
      "source": [
        "廣播機制（粗淺解釋）：張量尺寸不同時，同維度的各尺寸會自動按最大的廣播后再做計算（雖然好用，但也容易出錯）"
      ],
      "metadata": {
        "id": "NdpESOhyXbhk"
      }
    },
    {
      "cell_type": "code",
      "source": [],
      "metadata": {
        "id": "emrj0Uh5XZCw"
      },
      "execution_count": null,
      "outputs": []
    }
  ]
}