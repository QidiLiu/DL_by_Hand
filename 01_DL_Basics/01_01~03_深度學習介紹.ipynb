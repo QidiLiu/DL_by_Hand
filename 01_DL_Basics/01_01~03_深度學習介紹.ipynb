{
  "nbformat": 4,
  "nbformat_minor": 0,
  "metadata": {
    "colab": {
      "provenance": [],
      "authorship_tag": "ABX9TyNX/+MibDJah+5QmGIjgtWT",
      "include_colab_link": true
    },
    "kernelspec": {
      "name": "python3",
      "display_name": "Python 3"
    },
    "language_info": {
      "name": "python"
    }
  },
  "cells": [
    {
      "cell_type": "markdown",
      "metadata": {
        "id": "view-in-github",
        "colab_type": "text"
      },
      "source": [
        "<a href=\"https://colab.research.google.com/github/QidiLiu/DL_by_Hand/blob/main/01_DL_Basics/01_01~03_%E6%B7%B1%E5%BA%A6%E5%AD%B8%E7%BF%92%E4%BB%8B%E7%B4%B9.ipynb\" target=\"_parent\"><img src=\"https://colab.research.google.com/assets/colab-badge.svg\" alt=\"Open In Colab\"/></a>"
      ]
    },
    {
      "cell_type": "markdown",
      "source": [
        "深度學習完成的問題（逐層遞進）：感知 → 推理 → 知識 → 規劃\n",
        "\n",
        "本課重點：基於深度學習的計算機視覺和自然語言處理\n",
        "\n",
        "深度學習的一些實際應用：\n",
        "\n",
        "- 圖片分類\n",
        "- 圖片定位\n",
        "- 圖片的語義分割\n",
        "- 風格遷移\n",
        "- 合成人臉\n",
        "- 由文字生成圖片\n",
        "- 文字生成\n",
        "- 無人駕駛\n",
        "\n",
        "案例研究 - 廣告點擊：\n",
        "\n",
        "- 工作步驟：\n",
        "    1. 由用戶輸入的關鍵詞查找相關對象\n",
        "    2. 預測點擊概率（基於機器學習）\n",
        "    3. 根據點擊概率和廣告收益等信息為相關對象排序\n",
        "- 領域專家負責用模型控制廣告展現，數據科學家負責訓練模型，AI專家負責模型的優化\n",
        "\n",
        "Q&A\n",
        "\n",
        "- 深度學習的可解釋性：更多的是關注模型的有效性，對於過深的模型，沒有徹底的可解釋性\n",
        "- 領域專家是什麽：提需求的人，同時也是數據標簽的來源\n",
        "- 深度學習只能用直覺理解嗎：解釋工作無法用數學表述，落地過程需要用數學表述\n",
        "- 數據科學家與AI專家的區別：數據專家將實際業務變爲機器學習任務，AI專家將模型的精度與性能做得更好\n",
        "- 語言不只是感知，也涉及規劃，但是目前基於深度學習的自然語言處理主要做感知\n",
        "- 如何搜索適合自己領域的paper，以後有機會分享\n",
        "- 無人駕駛的誤判：以多種機制（融合）盡可能避免危險\n",
        "\n",
        "安裝（略）\n",
        "\n",
        "\n"
      ],
      "metadata": {
        "id": "3pV2qCd6HD38"
      }
    },
    {
      "cell_type": "code",
      "execution_count": null,
      "metadata": {
        "id": "9yNQAeu9DFu6"
      },
      "outputs": [],
      "source": []
    }
  ]
}