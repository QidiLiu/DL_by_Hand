{
  "nbformat": 4,
  "nbformat_minor": 0,
  "metadata": {
    "colab": {
      "provenance": [],
      "include_colab_link": true
    },
    "kernelspec": {
      "name": "python3",
      "display_name": "Python 3"
    },
    "language_info": {
      "name": "python"
    }
  },
  "cells": [
    {
      "cell_type": "markdown",
      "metadata": {
        "id": "view-in-github",
        "colab_type": "text"
      },
      "source": [
        "<a href=\"https://colab.research.google.com/github/QidiLiu/DL_by_Hand/blob/main/01_DL_Basics/01_05_%E7%B6%AB%E6%80%A7%E4%BB%A3%E6%95%B8.ipynb\" target=\"_parent\"><img src=\"https://colab.research.google.com/assets/colab-badge.svg\" alt=\"Open In Colab\"/></a>"
      ]
    },
    {
      "cell_type": "markdown",
      "source": [
        "### 线性代数基础\n",
        "\n",
        "![](https://github.com/QidiLiu/DL_by_Hand/blob/main/img/01_05-01.png?raw=1)\n",
        "\n",
        "![](https://github.com/QidiLiu/DL_by_Hand/blob/main/img/01_05-02.png?raw=1)\n",
        "\n",
        "![](https://github.com/QidiLiu/DL_by_Hand/blob/main/img/01_05-03.png?raw=1)\n",
        "\n",
        "![](https://github.com/QidiLiu/DL_by_Hand/blob/main/img/01_05-04.png?raw=1)\n",
        "\n",
        "![](https://github.com/QidiLiu/DL_by_Hand/blob/main/img/01_05-05.png?raw=1)\n",
        "\n",
        "![](https://github.com/QidiLiu/DL_by_Hand/blob/main/img/01_05-06.png?raw=1)\n",
        "\n",
        "![](https://github.com/QidiLiu/DL_by_Hand/blob/main/img/01_05-07.png?raw=1)\n",
        "\n",
        "![](https://github.com/QidiLiu/DL_by_Hand/blob/main/img/01_05-08.png?raw=1)\n",
        "\n",
        "![](https://github.com/QidiLiu/DL_by_Hand/blob/main/img/01_05-09.png?raw=1)\n",
        "\n",
        "![](https://github.com/QidiLiu/DL_by_Hand/blob/main/img/01_05-10.png?raw=1)\n",
        "\n",
        "![](https://github.com/QidiLiu/DL_by_Hand/blob/main/img/01_05-11.png?raw=1)\n",
        "\n",
        "![](https://github.com/QidiLiu/DL_by_Hand/blob/main/img/01_05-12.png?raw=1)\n",
        "\n",
        "![](https://github.com/QidiLiu/DL_by_Hand/blob/main/img/01_05-13.png?raw=1)"
      ],
      "metadata": {
        "id": "a1eV866Kg4ig"
      }
    },
    {
      "cell_type": "markdown",
      "source": [
        "### 綫性代數實現\n",
        "\n",
        "標量由只有一個元素的張量表示"
      ],
      "metadata": {
        "id": "ztqfaaj9aUVL"
      }
    },
    {
      "cell_type": "code",
      "execution_count": null,
      "metadata": {
        "id": "YPehdbMzcPT3",
        "outputId": "539e3437-bf33-4510-ba8d-c554b5ec58ea",
        "colab": {
          "base_uri": "https://localhost:8080/"
        }
      },
      "outputs": [
        {
          "output_type": "execute_result",
          "data": {
            "text/plain": [
              "(tensor([5.]), tensor([6.]), tensor([1.5000]), tensor([9.]))"
            ]
          },
          "metadata": {},
          "execution_count": 1
        }
      ],
      "source": [
        "import torch\n",
        "\n",
        "x = torch.tensor([3.0])\n",
        "y = torch.tensor([2.0])\n",
        "\n",
        "x + y, x * y, x / y, x ** y"
      ]
    },
    {
      "cell_type": "markdown",
      "source": [
        "向量可看作由標量值組成的列表"
      ],
      "metadata": {
        "id": "rJVqCBOPbclZ"
      }
    },
    {
      "cell_type": "code",
      "source": [
        "x = torch.arange(4, dtype=torch.float32)\n",
        "x"
      ],
      "metadata": {
        "id": "xiUi8LJibQkW",
        "outputId": "10f4cb0b-aad5-4f6e-8e06-95c00f3548e9",
        "colab": {
          "base_uri": "https://localhost:8080/"
        }
      },
      "execution_count": null,
      "outputs": [
        {
          "output_type": "execute_result",
          "data": {
            "text/plain": [
              "tensor([0., 1., 2., 3.])"
            ]
          },
          "metadata": {},
          "execution_count": 2
        }
      ]
    },
    {
      "cell_type": "markdown",
      "source": [
        "可通過張量的索引來訪問向量中的任一元素"
      ],
      "metadata": {
        "id": "keZaEgSnbozR"
      }
    },
    {
      "cell_type": "code",
      "source": [
        "x[3]"
      ],
      "metadata": {
        "id": "noivLR27blN8",
        "outputId": "88144f61-decc-4d0c-d1df-73beb3886581",
        "colab": {
          "base_uri": "https://localhost:8080/"
        }
      },
      "execution_count": null,
      "outputs": [
        {
          "output_type": "execute_result",
          "data": {
            "text/plain": [
              "tensor(3.)"
            ]
          },
          "metadata": {},
          "execution_count": 3
        }
      ]
    },
    {
      "cell_type": "markdown",
      "source": [
        "通過指定長寬，創建一個形狀為m*n的矩陣"
      ],
      "metadata": {
        "id": "FVeaFGWfcJEr"
      }
    },
    {
      "cell_type": "code",
      "source": [
        "A = torch.arange(20).reshape(5, 4)\n",
        "A"
      ],
      "metadata": {
        "id": "olD6wz_Abzti",
        "outputId": "afcdc7cd-163a-4e95-9d69-624782277a69",
        "colab": {
          "base_uri": "https://localhost:8080/"
        }
      },
      "execution_count": null,
      "outputs": [
        {
          "output_type": "execute_result",
          "data": {
            "text/plain": [
              "tensor([[ 0,  1,  2,  3],\n",
              "        [ 4,  5,  6,  7],\n",
              "        [ 8,  9, 10, 11],\n",
              "        [12, 13, 14, 15],\n",
              "        [16, 17, 18, 19]])"
            ]
          },
          "metadata": {},
          "execution_count": 4
        }
      ]
    },
    {
      "cell_type": "markdown",
      "source": [
        "矩陣的轉置"
      ],
      "metadata": {
        "id": "gCHGez0GchM-"
      }
    },
    {
      "cell_type": "code",
      "source": [
        "A.T"
      ],
      "metadata": {
        "id": "kVTjZ3gsceD6",
        "outputId": "b0a82477-3ca8-49a2-df87-89e2dc1d0658",
        "colab": {
          "base_uri": "https://localhost:8080/"
        }
      },
      "execution_count": null,
      "outputs": [
        {
          "output_type": "execute_result",
          "data": {
            "text/plain": [
              "tensor([[ 0,  4,  8, 12, 16],\n",
              "        [ 1,  5,  9, 13, 17],\n",
              "        [ 2,  6, 10, 14, 18],\n",
              "        [ 3,  7, 11, 15, 19]])"
            ]
          },
          "metadata": {},
          "execution_count": 5
        }
      ]
    },
    {
      "cell_type": "markdown",
      "source": [
        "對於對稱矩陣 (symmetric matrix)，原矩陣等於其轉置"
      ],
      "metadata": {
        "id": "dezpbOA9c5Gt"
      }
    },
    {
      "cell_type": "code",
      "source": [
        "B = torch.tensor([[1, 2, 3], [2, 0, 4], [3, 4, 5]])\n",
        "B"
      ],
      "metadata": {
        "id": "OHdyfqujcnqy",
        "outputId": "07c82ead-ca50-47ad-8c70-976ffba9302e",
        "colab": {
          "base_uri": "https://localhost:8080/"
        }
      },
      "execution_count": null,
      "outputs": [
        {
          "output_type": "execute_result",
          "data": {
            "text/plain": [
              "tensor([[1, 2, 3],\n",
              "        [2, 0, 4],\n",
              "        [3, 4, 5]])"
            ]
          },
          "metadata": {},
          "execution_count": 6
        }
      ]
    },
    {
      "cell_type": "code",
      "source": [
        "B.T, B == B.T"
      ],
      "metadata": {
        "id": "r-e2vjA0dZAb",
        "outputId": "a9763ea9-1fe3-4b5f-a2f5-da2e875af82f",
        "colab": {
          "base_uri": "https://localhost:8080/"
        }
      },
      "execution_count": null,
      "outputs": [
        {
          "output_type": "execute_result",
          "data": {
            "text/plain": [
              "(tensor([[1, 2, 3],\n",
              "         [2, 0, 4],\n",
              "         [3, 4, 5]]), tensor([[True, True, True],\n",
              "         [True, True, True],\n",
              "         [True, True, True]]))"
            ]
          },
          "metadata": {},
          "execution_count": 7
        }
      ]
    },
    {
      "cell_type": "markdown",
      "source": [
        "類似的，還可以構建超過2維的多維矩陣"
      ],
      "metadata": {
        "id": "rEr5mRhSd50N"
      }
    },
    {
      "cell_type": "code",
      "source": [
        "X = torch.arange(24).reshape(2, 3, 4)\n",
        "X"
      ],
      "metadata": {
        "id": "EcuqXQz1eB2X",
        "outputId": "d971e626-8869-4a2d-ea9e-212eb595e94e",
        "colab": {
          "base_uri": "https://localhost:8080/"
        }
      },
      "execution_count": null,
      "outputs": [
        {
          "output_type": "execute_result",
          "data": {
            "text/plain": [
              "tensor([[[ 0,  1,  2,  3],\n",
              "         [ 4,  5,  6,  7],\n",
              "         [ 8,  9, 10, 11]],\n",
              "\n",
              "        [[12, 13, 14, 15],\n",
              "         [16, 17, 18, 19],\n",
              "         [20, 21, 22, 23]]])"
            ]
          },
          "metadata": {},
          "execution_count": 8
        }
      ]
    },
    {
      "cell_type": "markdown",
      "source": [
        "給定相同尺寸的任意兩個張量，任何按元素二元運算的結果都將是相同形狀的張量"
      ],
      "metadata": {
        "id": "Ig4_dbBMdzYj"
      }
    },
    {
      "cell_type": "code",
      "source": [
        "A = torch.arange(20, dtype=torch.float32).reshape(5, 4)\n",
        "B = A.clone() # 用clone才能為張量B分配新内存\n",
        "A, A + B"
      ],
      "metadata": {
        "id": "UEsesu82dxIp",
        "outputId": "21d03203-b8f0-426e-e0ad-685f8d2e5365",
        "colab": {
          "base_uri": "https://localhost:8080/"
        }
      },
      "execution_count": null,
      "outputs": [
        {
          "output_type": "execute_result",
          "data": {
            "text/plain": [
              "(tensor([[ 0.,  1.,  2.,  3.],\n",
              "         [ 4.,  5.,  6.,  7.],\n",
              "         [ 8.,  9., 10., 11.],\n",
              "         [12., 13., 14., 15.],\n",
              "         [16., 17., 18., 19.]]), tensor([[ 0.,  2.,  4.,  6.],\n",
              "         [ 8., 10., 12., 14.],\n",
              "         [16., 18., 20., 22.],\n",
              "         [24., 26., 28., 30.],\n",
              "         [32., 34., 36., 38.]]))"
            ]
          },
          "metadata": {},
          "execution_count": 9
        }
      ]
    },
    {
      "cell_type": "markdown",
      "source": [
        "兩矩陣按元素乘法稱爲*哈達瑪積* (Hadamard product)"
      ],
      "metadata": {
        "id": "1LBO3G6BgoLt"
      }
    },
    {
      "cell_type": "code",
      "source": [
        "A * B"
      ],
      "metadata": {
        "id": "jxLIgI4ogKVR",
        "outputId": "0732733c-24ea-49a0-962e-1d007b287779",
        "colab": {
          "base_uri": "https://localhost:8080/"
        }
      },
      "execution_count": null,
      "outputs": [
        {
          "output_type": "execute_result",
          "data": {
            "text/plain": [
              "tensor([[  0.,   1.,   4.,   9.],\n",
              "        [ 16.,  25.,  36.,  49.],\n",
              "        [ 64.,  81., 100., 121.],\n",
              "        [144., 169., 196., 225.],\n",
              "        [256., 289., 324., 361.]])"
            ]
          },
          "metadata": {},
          "execution_count": 10
        }
      ]
    },
    {
      "cell_type": "markdown",
      "source": [
        "在用sum求和時，可指定參數來保持軸數不變"
      ],
      "metadata": {
        "id": "bGLaigN4h-l7"
      }
    },
    {
      "cell_type": "code",
      "source": [
        "sum_A = A.sum(dim=1, keepdims=True) # 保持維度數不變是進行廣播的前提\n",
        "sum_A"
      ],
      "metadata": {
        "id": "m2cy3SpUhK6u",
        "outputId": "2eb967be-21a4-456b-a41b-4f2ff636c10a",
        "colab": {
          "base_uri": "https://localhost:8080/"
        }
      },
      "execution_count": null,
      "outputs": [
        {
          "output_type": "execute_result",
          "data": {
            "text/plain": [
              "tensor([[ 6.],\n",
              "        [22.],\n",
              "        [38.],\n",
              "        [54.],\n",
              "        [70.]])"
            ]
          },
          "metadata": {},
          "execution_count": 11
        }
      ]
    },
    {
      "cell_type": "markdown",
      "source": [
        "通過廣播將A除以sum_A"
      ],
      "metadata": {
        "id": "qMtl4HDpiipb"
      }
    },
    {
      "cell_type": "code",
      "source": [
        "A / sum_A"
      ],
      "metadata": {
        "id": "gIhs6y0EiZvm",
        "outputId": "6b0e4e32-9060-4e54-93cf-cd308ce38130",
        "colab": {
          "base_uri": "https://localhost:8080/"
        }
      },
      "execution_count": null,
      "outputs": [
        {
          "output_type": "execute_result",
          "data": {
            "text/plain": [
              "tensor([[0.0000, 0.1667, 0.3333, 0.5000],\n",
              "        [0.1818, 0.2273, 0.2727, 0.3182],\n",
              "        [0.2105, 0.2368, 0.2632, 0.2895],\n",
              "        [0.2222, 0.2407, 0.2593, 0.2778],\n",
              "        [0.2286, 0.2429, 0.2571, 0.2714]])"
            ]
          },
          "metadata": {},
          "execution_count": 12
        }
      ]
    },
    {
      "cell_type": "markdown",
      "source": [
        "用cumsum可沿某個軸計算A元素的纍積總和"
      ],
      "metadata": {
        "id": "kvTzTYI3jfcB"
      }
    },
    {
      "cell_type": "code",
      "source": [
        "A.cumsum(axis=0)"
      ],
      "metadata": {
        "id": "mo8KbJeZiqey",
        "outputId": "bdc2e8ee-bfb7-461c-9e17-7fc7c46ce62a",
        "colab": {
          "base_uri": "https://localhost:8080/"
        }
      },
      "execution_count": null,
      "outputs": [
        {
          "output_type": "execute_result",
          "data": {
            "text/plain": [
              "tensor([[ 0.,  1.,  2.,  3.],\n",
              "        [ 4.,  6.,  8., 10.],\n",
              "        [12., 15., 18., 21.],\n",
              "        [24., 28., 32., 36.],\n",
              "        [40., 45., 50., 55.]])"
            ]
          },
          "metadata": {},
          "execution_count": 13
        }
      ]
    },
    {
      "cell_type": "markdown",
      "source": [
        "點積dot是相同位置的按元素乘積的和"
      ],
      "metadata": {
        "id": "1Ix55l-6kPF-"
      }
    },
    {
      "cell_type": "code",
      "source": [
        "y = torch.ones(4, dtype=torch.float32)\n",
        "x, y, torch.dot(x, y)"
      ],
      "metadata": {
        "id": "y9StqlDsjs7x",
        "outputId": "3d7077e7-ef8a-4bd8-fcfb-5b30c36d7d23",
        "colab": {
          "base_uri": "https://localhost:8080/"
        }
      },
      "execution_count": null,
      "outputs": [
        {
          "output_type": "execute_result",
          "data": {
            "text/plain": [
              "(tensor([0., 1., 2., 3.]), tensor([1., 1., 1., 1.]), tensor(6.))"
            ]
          },
          "metadata": {},
          "execution_count": 14
        }
      ]
    },
    {
      "cell_type": "code",
      "source": [
        "torch.sum(x * y)"
      ],
      "metadata": {
        "id": "fy6LuuqZkd1d",
        "outputId": "05e0196c-0700-4060-b6e3-bf7ac1e84326",
        "colab": {
          "base_uri": "https://localhost:8080/"
        }
      },
      "execution_count": null,
      "outputs": [
        {
          "output_type": "execute_result",
          "data": {
            "text/plain": [
              "tensor(6.)"
            ]
          },
          "metadata": {},
          "execution_count": 15
        }
      ]
    },
    {
      "cell_type": "markdown",
      "source": [
        "矩陣向量積Ax是一個長度爲m的列向量"
      ],
      "metadata": {
        "id": "wzxiT-00nj83"
      }
    },
    {
      "cell_type": "code",
      "source": [
        "A.shape, x.shape, torch.mv(A, x)"
      ],
      "metadata": {
        "id": "qfKzLUM7nU7h",
        "outputId": "a93f3af6-e9ec-4c4a-cebd-3411d8b0ce2f",
        "colab": {
          "base_uri": "https://localhost:8080/"
        }
      },
      "execution_count": null,
      "outputs": [
        {
          "output_type": "execute_result",
          "data": {
            "text/plain": [
              "(torch.Size([5, 4]), torch.Size([4]), tensor([ 14.,  38.,  62.,  86., 110.]))"
            ]
          },
          "metadata": {},
          "execution_count": 16
        }
      ]
    },
    {
      "cell_type": "markdown",
      "source": [
        "我們可將矩陣-矩陣乘法AB看作簡單地執行m次矩陣向量積，并將結果堆叠在一起，形成一個n*m矩陣"
      ],
      "metadata": {
        "id": "s-p11rtmovkl"
      }
    },
    {
      "cell_type": "code",
      "source": [
        "B = torch.ones(4, 3)\n",
        "torch.mm(A, B)"
      ],
      "metadata": {
        "id": "MzAWq_-WokC3",
        "outputId": "6daead6c-91f1-4989-b1e4-28f3520d4fce",
        "colab": {
          "base_uri": "https://localhost:8080/"
        }
      },
      "execution_count": null,
      "outputs": [
        {
          "output_type": "execute_result",
          "data": {
            "text/plain": [
              "tensor([[ 6.,  6.,  6.],\n",
              "        [22., 22., 22.],\n",
              "        [38., 38., 38.],\n",
              "        [54., 54., 54.],\n",
              "        [70., 70., 70.]])"
            ]
          },
          "metadata": {},
          "execution_count": 17
        }
      ]
    },
    {
      "cell_type": "markdown",
      "source": [
        "L2範數是向量元素平方和的平方根（比如算距離時常用這種）"
      ],
      "metadata": {
        "id": "63T_7R6mpdl-"
      }
    },
    {
      "cell_type": "code",
      "source": [
        "u = torch.tensor([3.0, -4.0])\n",
        "torch.norm(u) # Frobenius norm"
      ],
      "metadata": {
        "id": "NerNourapUgR",
        "outputId": "b4b266c0-fc1f-48fc-d595-f33141ca6419",
        "colab": {
          "base_uri": "https://localhost:8080/"
        }
      },
      "execution_count": null,
      "outputs": [
        {
          "output_type": "execute_result",
          "data": {
            "text/plain": [
              "tensor(5.)"
            ]
          },
          "metadata": {},
          "execution_count": 18
        }
      ]
    },
    {
      "cell_type": "markdown",
      "source": [
        "L1範數表示為向量元素的絕對值之和"
      ],
      "metadata": {
        "id": "lnV1ZoLwquSv"
      }
    },
    {
      "cell_type": "code",
      "source": [
        "torch.abs(u).sum()"
      ],
      "metadata": {
        "id": "H5aqrJl0pvHI",
        "outputId": "8d81672a-5716-4b49-f34c-42f022ab7640",
        "colab": {
          "base_uri": "https://localhost:8080/"
        }
      },
      "execution_count": null,
      "outputs": [
        {
          "output_type": "execute_result",
          "data": {
            "text/plain": [
              "tensor(7.)"
            ]
          },
          "metadata": {},
          "execution_count": 19
        }
      ]
    },
    {
      "cell_type": "code",
      "source": [],
      "metadata": {
        "id": "Lm32Rhna_hj4"
      },
      "execution_count": null,
      "outputs": []
    }
  ]
}