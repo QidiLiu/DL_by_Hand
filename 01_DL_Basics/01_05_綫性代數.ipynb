{
  "nbformat": 4,
  "nbformat_minor": 0,
  "metadata": {
    "colab": {
      "provenance": [],
      "authorship_tag": "ABX9TyPcWTnpbWzKCj8+qMhiibmA",
      "include_colab_link": true
    },
    "kernelspec": {
      "name": "python3",
      "display_name": "Python 3"
    },
    "language_info": {
      "name": "python"
    }
  },
  "cells": [
    {
      "cell_type": "markdown",
      "metadata": {
        "id": "view-in-github",
        "colab_type": "text"
      },
      "source": [
        "<a href=\"https://colab.research.google.com/github/QidiLiu/DL_by_Hand/blob/main/01_DL_Basics/01_05_%E7%B6%AB%E6%80%A7%E4%BB%A3%E6%95%B8.ipynb\" target=\"_parent\"><img src=\"https://colab.research.google.com/assets/colab-badge.svg\" alt=\"Open In Colab\"/></a>"
      ]
    },
    {
      "cell_type": "markdown",
      "source": [
        "### 线性代数基础\n",
        "\n",
        "![](../img/01_05-01.png)\n",
        "\n",
        "![](../img/01_05-02.png)\n",
        "\n",
        "![](../img/01_05-03.png)\n",
        "\n",
        "![](../img/01_05-04.png)\n",
        "\n",
        "![](../img/01_05-05.png)\n",
        "\n",
        "![](../img/01_05-06.png)\n",
        "\n",
        "![](../img/01_05-07.png)\n",
        "\n",
        "![](../img/01_05-08.png)\n",
        "\n",
        "![](../img/01_05-09.png)\n",
        "\n",
        "![](../img/01_05-10.png)\n",
        "\n",
        "![](../img/01_05-11.png)\n",
        "\n",
        "![](../img/01_05-12.png)\n",
        "\n",
        "![](../img/01_05-13.png)"
      ],
      "metadata": {
        "id": "a1eV866Kg4ig"
      }
    },
    {
      "cell_type": "code",
      "execution_count": null,
      "metadata": {
        "id": "YPehdbMzcPT3"
      },
      "outputs": [],
      "source": []
    }
  ]
}